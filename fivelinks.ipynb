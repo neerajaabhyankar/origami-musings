{
 "cells": [
  {
   "cell_type": "code",
   "execution_count": null,
   "metadata": {},
   "outputs": [],
   "source": [
    "import numpy as np\n",
    "import plotly\n",
    "import plotly.graph_objs as go\n",
    "plotly.offline.init_notebook_mode()\n",
    "import vedo"
   ]
  },
  {
   "cell_type": "code",
   "execution_count": null,
   "metadata": {},
   "outputs": [],
   "source": [
    "LINK_COLORS = [\"tomato\", \"gold\", \"mediumseagreen\", \"royalblue\", \"mediumorchid\"]"
   ]
  },
  {
   "cell_type": "code",
   "execution_count": null,
   "metadata": {},
   "outputs": [],
   "source": [
    "PHI = (1+np.sqrt(5))/2"
   ]
  },
  {
   "cell_type": "markdown",
   "metadata": {},
   "source": [
    "### Dodecahedron Vertices"
   ]
  },
  {
   "cell_type": "code",
   "execution_count": null,
   "metadata": {},
   "outputs": [],
   "source": [
    "dd_vertices = np.array([\n",
    "    [-1, -1, -1],\n",
    "    [-1, -1, 1],\n",
    "    [-1, 1, -1],\n",
    "    [-1, 1, 1],\n",
    "    [1, -1, -1],\n",
    "    [1, -1, 1],\n",
    "    [1, 1, -1],\n",
    "    [1, 1, 1],\n",
    "    \n",
    "    [0, PHI, 1/PHI],\n",
    "    [0, PHI, -1/PHI],\n",
    "    [0, -PHI, 1/PHI],\n",
    "    [0, -PHI, -1/PHI],\n",
    "    \n",
    "    [1/PHI, 0, PHI],\n",
    "    [1/PHI, 0, -PHI],\n",
    "    [-1/PHI, 0, PHI],\n",
    "    [-1/PHI, 0, -PHI],\n",
    "    \n",
    "    [PHI, 1/PHI, 0],\n",
    "    [PHI, -1/PHI, 0],\n",
    "    [-PHI, 1/PHI, 0],\n",
    "    [-PHI, -1/PHI, 0],\n",
    "])\n",
    "print(dd_vertices.shape)"
   ]
  },
  {
   "cell_type": "code",
   "execution_count": null,
   "metadata": {},
   "outputs": [],
   "source": [
    "vertices = go.Scatter3d(\n",
    "    x=dd_vertices[:,0],\n",
    "    y=dd_vertices[:,1],\n",
    "    z=dd_vertices[:,2],\n",
    "    mode='markers',\n",
    "    name='markers',\n",
    "    marker=dict(color=f'rgb(255, 0, 0)', size=5)\n",
    ")"
   ]
  },
  {
   "cell_type": "code",
   "execution_count": null,
   "metadata": {},
   "outputs": [],
   "source": [
    "fig = go.Figure(data=[vertices])\n",
    "plotly.offline.iplot(fig, filename='dodecahedron-scatter.png')"
   ]
  },
  {
   "cell_type": "code",
   "execution_count": null,
   "metadata": {},
   "outputs": [],
   "source": []
  },
  {
   "cell_type": "markdown",
   "metadata": {},
   "source": [
    "### Dodecahedron Linking # 1"
   ]
  },
  {
   "cell_type": "code",
   "execution_count": null,
   "metadata": {},
   "outputs": [],
   "source": [
    "qa0 = vedo.shapes.Line([\n",
    "    (-1, 1, 1), (1, 1, -1), (1, -1, -1), (-1, -1, 1), (-1, 1, 1)\n",
    "], c=LINK_COLORS[0], lw=10)\n",
    "\n",
    "qa1 = vedo.shapes.Line([\n",
    "    (-1/PHI, PHI, 0), (PHI, 0, 1/PHI), (1/PHI, -PHI, 0), (-PHI, 0, -1/PHI), (-1/PHI, PHI, 0)\n",
    "], c=LINK_COLORS[1], lw=10)\n",
    "\n",
    "qa2 = vedo.shapes.Line([\n",
    "    (1/PHI, PHI, 0), (0, -1/PHI, PHI), (-1/PHI, -PHI, 0), (0, 1/PHI, -PHI), (1/PHI, PHI, 0)\n",
    "], c=LINK_COLORS[2], lw=10)\n",
    "\n",
    "qa3 = vedo.shapes.Line([\n",
    "    (1, 1, 1), (-PHI, 0, 1/PHI), (-1, -1, -1), (PHI, 0, -1/PHI), (1, 1, 1)\n",
    "], c=LINK_COLORS[3], lw=10)\n",
    "\n",
    "qa4 = vedo.shapes.Line([\n",
    "    (0, 1/PHI, PHI), (-1, 1, -1), (0, -1/PHI, -PHI), (1, -1, 1), (0, 1/PHI, PHI)\n",
    "], c=LINK_COLORS[4], lw=10)"
   ]
  },
  {
   "cell_type": "code",
   "execution_count": null,
   "metadata": {},
   "outputs": [],
   "source": [
    "# plot\n",
    "# vedo.show(qa0, qa1, qa2, qa3, qa4, __doc__, viewup='z', axes=1).close()\n"
   ]
  },
  {
   "cell_type": "markdown",
   "metadata": {},
   "source": [
    "The long arm of the red will be bounded by<br>\n",
    "    the long arm of the yellow + purple<br>\n",
    "The short arm of the red will be bounded by<br>\n",
    "    the long arm of the blue<br>"
   ]
  },
  {
   "cell_type": "code",
   "execution_count": null,
   "metadata": {},
   "outputs": [],
   "source": []
  },
  {
   "cell_type": "code",
   "execution_count": null,
   "metadata": {},
   "outputs": [],
   "source": []
  },
  {
   "cell_type": "markdown",
   "metadata": {},
   "source": [
    "### Dodecahedron Linking #2"
   ]
  },
  {
   "cell_type": "code",
   "execution_count": null,
   "metadata": {},
   "outputs": [],
   "source": [
    "qb0 = vedo.shapes.Line([\n",
    "    (-1, 1, 1), (-PHI, 0, 1/PHI), (1, -1, -1), (PHI, 0, -1/PHI), (-1, 1, 1)\n",
    "], c=LINK_COLORS[0], lw=10)\n",
    "\n",
    "qb1 = vedo.shapes.Line([\n",
    "    (-1/PHI, PHI, 0), (-1, 1, -1), (1/PHI, -PHI, 0), (1, -1, 1), (-1/PHI, PHI, 0)\n",
    "], c=LINK_COLORS[1], lw=10)\n",
    "\n",
    "qb2 = vedo.shapes.Line([\n",
    "    (1/PHI, PHI, 0), (1, 1, -1), (-1/PHI, -PHI, 0), (-1, -1, 1), (1/PHI, PHI, 0)\n",
    "], c=LINK_COLORS[2], lw=10)\n",
    "\n",
    "qb3 = vedo.shapes.Line([\n",
    "    (1, 1, 1), (PHI, 0, 1/PHI), (-1, -1, -1), (-PHI, 0, -1/PHI), (1, 1, 1)\n",
    "], c=LINK_COLORS[3], lw=10)\n",
    "\n",
    "qb4 = vedo.shapes.Line([\n",
    "    (0, 1/PHI, PHI), (0, -1/PHI, PHI), (0, -1/PHI, -PHI), (0, 1/PHI, -PHI), (0, 1/PHI, PHI)\n",
    "], c=LINK_COLORS[4], lw=10)"
   ]
  },
  {
   "cell_type": "code",
   "execution_count": null,
   "metadata": {},
   "outputs": [],
   "source": [
    "# plot\n",
    "# vedo.show(qa0, qa1, qa2, qa3, qa4, __doc__, viewup='z', axes=1).close()\n"
   ]
  },
  {
   "cell_type": "markdown",
   "metadata": {},
   "source": [
    "All quadrilaterals intersect in the same 2 points! Can'treally link or weave..."
   ]
  },
  {
   "cell_type": "markdown",
   "metadata": {},
   "source": [
    "### ..."
   ]
  },
  {
   "cell_type": "code",
   "execution_count": null,
   "metadata": {},
   "outputs": [],
   "source": []
  }
 ],
 "metadata": {
  "kernelspec": {
   "display_name": "origami-musings-rQ1nmrsu-py3.11",
   "language": "python",
   "name": "python3"
  },
  "language_info": {
   "codemirror_mode": {
    "name": "ipython",
    "version": 3
   },
   "file_extension": ".py",
   "mimetype": "text/x-python",
   "name": "python",
   "nbconvert_exporter": "python",
   "pygments_lexer": "ipython3",
   "version": "3.11.9"
  }
 },
 "nbformat": 4,
 "nbformat_minor": 2
}
