{
 "cells": [
  {
   "cell_type": "code",
   "execution_count": 1,
   "metadata": {},
   "outputs": [],
   "source": [
    "import vedo\n",
    "import numpy as np"
   ]
  },
  {
   "cell_type": "markdown",
   "metadata": {},
   "source": [
    "### Utils"
   ]
  },
  {
   "cell_type": "code",
   "execution_count": 4,
   "metadata": {},
   "outputs": [],
   "source": [
    "#function to translate a set of points\n",
    "def translate(points, x, y, z):\n",
    "    # create a new list of points\n",
    "    new_points = []\n",
    "    # for each point in the list of points\n",
    "    for point in points:\n",
    "        # add the translated point to the list of new points\n",
    "        new_points.append((point[0] + x, point[1] + y, point[2] + z))\n",
    "    # return the list of new points\n",
    "    return new_points"
   ]
  },
  {
   "cell_type": "code",
   "execution_count": 5,
   "metadata": {},
   "outputs": [],
   "source": [
    "#function to create a rotation matrix\n",
    "def create_rotation_matrix(axis, angle):\n",
    "    # create a unit vector from the axis\n",
    "    axis = axis / np.sqrt(np.dot(axis, axis))\n",
    "    # create the rotation matrix\n",
    "    rotation_matrix = np.cos(angle) * np.eye(3) + np.sin(angle) * np.array([[0, -axis[2], axis[1]], [axis[2], 0, -axis[0]], [-axis[1], axis[0], 0]]) + (1 - np.cos(angle)) * np.outer(axis, axis)\n",
    "    # return the rotation matrix\n",
    "    return rotation_matrix"
   ]
  },
  {
   "cell_type": "code",
   "execution_count": 6,
   "metadata": {},
   "outputs": [],
   "source": [
    "#function to rotate a point about a given axis around a given point\n",
    "def rotate_point(point, axis, angle, origin):\n",
    "    # create a vector from the origin to the point\n",
    "    vector = np.array(point) - np.array(origin)\n",
    "    # create a rotation matrix\n",
    "    rotation_matrix = create_rotation_matrix(axis, angle)\n",
    "    # rotate the vector\n",
    "    rotated_vector = np.dot(rotation_matrix, vector)\n",
    "    # return the rotated vector plus the origin\n",
    "    return rotated_vector + np.array(origin)"
   ]
  },
  {
   "cell_type": "code",
   "execution_count": 7,
   "metadata": {},
   "outputs": [],
   "source": [
    "#function to rotate a set of points about a given axis around the mean of those points\n",
    "def rotate(points, axis, angle):\n",
    "    # create a new list of points\n",
    "    new_points = []\n",
    "    # find the mean of the points\n",
    "    mean = np.mean(points, axis=0)\n",
    "    # for each point in the list of points\n",
    "    for point in points:\n",
    "        # rotate the point about the mean and add it to the list of new points\n",
    "        new_points.append(rotate_point(point, axis, angle, mean))\n",
    "    # return the list of new points\n",
    "    return new_points"
   ]
  },
  {
   "cell_type": "code",
   "execution_count": 8,
   "metadata": {},
   "outputs": [],
   "source": [
    "# create a closed curve with a segment between every adjacent pair of points and a segment between the last and first points\n",
    "def create_curve(points, color):\n",
    "    # add the first point to the end of the list of points\n",
    "    points.append(points[0])\n",
    "\n",
    "    # create the curve\n",
    "    curve = vedo.shapes.Line(points, c=color, lw=20)\n",
    "    # add a point to the curve\n",
    "    # curve.pointSize(20).addPoint(points[0])\n",
    "    # return the curve\n",
    "    return curve"
   ]
  },
  {
   "cell_type": "code",
   "execution_count": 9,
   "metadata": {},
   "outputs": [],
   "source": [
    "\n",
    "# provide the point set for first curve\n",
    "points1 = [(0,0,0), (1,0,0), (1,1,0), (1,1,1), (0,1,1), (0,0,1)]\n",
    "\n",
    "# provide the point set for second curve (translate the first curve) \n",
    "points2 = translate(points1, 2, 0, 0)\n",
    "\n",
    "# provide the point set for third curve (rotate the first curve about the z-axis)\n",
    "points3 = rotate(points1, (0,0,1), 45)\n",
    "\n",
    "# provide the point set for fourth curve (rotate the first curve about the y-axis)\n",
    "points4 = rotate(points1, (0,1,0), 45)"
   ]
  },
  {
   "cell_type": "code",
   "execution_count": 10,
   "metadata": {},
   "outputs": [
    {
     "ename": "",
     "evalue": "",
     "output_type": "error",
     "traceback": [
      "\u001b[1;31mThe Kernel crashed while executing code in the current cell or a previous cell. \n",
      "\u001b[1;31mPlease review the code in the cell(s) to identify a possible cause of the failure. \n",
      "\u001b[1;31mClick <a href='https://aka.ms/vscodeJupyterKernelCrash'>here</a> for more info. \n",
      "\u001b[1;31mView Jupyter <a href='command:jupyter.viewOutput'>log</a> for further details."
     ]
    }
   ],
   "source": [
    "# create the curve\n",
    "curve1 = create_curve(points1, 'red')\n",
    "curve2 = create_curve(points2, 'blue')\n",
    "curve3 = create_curve(points3, 'green')\n",
    "curve4 = create_curve(points4, 'yellow')\n",
    "\n",
    "# plot curve\n",
    "vedo.show(curve1, curve2, curve3, curve4, __doc__, viewup='z', axes=1).close()\n"
   ]
  },
  {
   "cell_type": "code",
   "execution_count": null,
   "metadata": {},
   "outputs": [],
   "source": []
  }
 ],
 "metadata": {
  "kernelspec": {
   "display_name": "origami-musings-rQ1nmrsu-py3.11",
   "language": "python",
   "name": "python3"
  },
  "language_info": {
   "codemirror_mode": {
    "name": "ipython",
    "version": 3
   },
   "file_extension": ".py",
   "mimetype": "text/x-python",
   "name": "python",
   "nbconvert_exporter": "python",
   "pygments_lexer": "ipython3",
   "version": "3.11.9"
  }
 },
 "nbformat": 4,
 "nbformat_minor": 2
}
