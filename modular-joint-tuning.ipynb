{
 "cells": [
  {
   "cell_type": "code",
   "execution_count": null,
   "id": "38167309",
   "metadata": {},
   "outputs": [],
   "source": [
    "import numpy as np\n",
    "import plotly\n",
    "import plotly.graph_objs as go\n",
    "plotly.offline.init_notebook_mode()"
   ]
  },
  {
   "cell_type": "markdown",
   "id": "19d705c1",
   "metadata": {},
   "source": [
    "### Problem statement"
   ]
  },
  {
   "cell_type": "markdown",
   "id": "8c277a9e",
   "metadata": {},
   "source": [
    "<img src=\"joint-tuning-problem.jpeg\" alt=\"brainstorm\" width=\"300\"/>"
   ]
  },
  {
   "cell_type": "markdown",
   "id": "1ca66abb",
   "metadata": {},
   "source": [
    "### Placeholder values"
   ]
  },
  {
   "cell_type": "code",
   "execution_count": null,
   "id": "be81d522",
   "metadata": {},
   "outputs": [],
   "source": [
    "a = 1.9; b = 1.7\n",
    "C = 62*np.pi/180\n",
    "# by measurement of the model)\n",
    "\n",
    "t = 30*np.pi/180  # 0 <= t <= C\n",
    "# example"
   ]
  },
  {
   "cell_type": "markdown",
   "id": "cb3772e9",
   "metadata": {},
   "source": [
    "### One triangle of the joint"
   ]
  },
  {
   "cell_type": "markdown",
   "id": "5b9ba740",
   "metadata": {},
   "source": [
    "Let's look at quadrant 1 -- the rest are just mirror images in the axes.<br>\n",
    "Constraints on the triangle:\n",
    "- One vertex at (0,0,0) (vertex C)\n",
    "- One edge in the YZ plane (edge a)\n",
    "- One edge in the XZ plane (edge b)\n",
    "\n",
    "Degrees of freedom / parameters that characterize it:\n",
    "- Length of a\n",
    "- Length of b\n",
    "- cos(a, b) = cos(C)\n",
    "\n",
    "There is an extra degree of freedom along which this triangle is free to move.<br>\n",
    "Looking at the big picture model, it makes sense to characterize this parameter by<br>\n",
    "$t = \\theta/2 = (\\textrm{the angle made by b with Z})$ ... For our purposes, $0 \\leq t \\leq C$"
   ]
  },
  {
   "cell_type": "code",
   "execution_count": null,
   "id": "5f863414",
   "metadata": {},
   "outputs": [],
   "source": [
    "pointC = np.array([0, 0, 0])"
   ]
  },
  {
   "cell_type": "markdown",
   "id": "a68a7745",
   "metadata": {},
   "source": [
    "From this, the corner A (opposite side a) has coordinates:<br>\n",
    "$A = (b*\\sin(t), 0, b*\\cos(t))$"
   ]
  },
  {
   "cell_type": "code",
   "execution_count": null,
   "id": "0143b5a8",
   "metadata": {},
   "outputs": [],
   "source": [
    "pointA = np.array([b*np.sin(t), 0, b*np.cos(t)])"
   ]
  },
  {
   "cell_type": "markdown",
   "id": "0c5aaa6e",
   "metadata": {},
   "source": [
    "The corner B (opposite side b) has coordinates:<br>\n",
    "$B = (0, yy, zz)$  (say) such that<br>\n",
    "$yy^{2} + zz^{2} = a^{2}$ &nbsp; &nbsp; -- (length of the edge)<br>\n",
    "$zz * b * \\cos(t) = a*b*\\cos(C)$ &nbsp; &nbsp; -- (dot product between the two vectors)\n",
    "\n",
    "Thus,<br>\n",
    "$B = (0, a*\\sqrt{1 - \\frac{\\cos^2(C)}{\\cos^2(t)}}, a*\\frac{\\cos(C)}{\\cos(t)})$"
   ]
  },
  {
   "cell_type": "markdown",
   "id": "e8b1b111",
   "metadata": {},
   "source": [
    "For shorthand, say B makes an angle $s$ with the Z axis, and hence has coordinates<br>\n",
    "$B = (0, a*\\sin(s), a*\\cos(s))$ where $s = \\cos^{-1}\\left(\\frac{cos(C)}{cos(t)}\\right)$"
   ]
  },
  {
   "cell_type": "code",
   "execution_count": null,
   "id": "9b87ef1b",
   "metadata": {},
   "outputs": [],
   "source": [
    "s = np.arccos(np.cos(C)/np.cos(t))\n",
    "pointB = np.array([0, a*np.sin(s), a*np.cos(s)])"
   ]
  },
  {
   "cell_type": "markdown",
   "id": "3e964a42",
   "metadata": {},
   "source": [
    "Thus,"
   ]
  },
  {
   "cell_type": "code",
   "execution_count": null,
   "id": "d8a20549",
   "metadata": {},
   "outputs": [],
   "source": [
    "quad1_vertices = np.array([pointA, pointB, pointC])"
   ]
  },
  {
   "cell_type": "code",
   "execution_count": null,
   "id": "e43a5999",
   "metadata": {},
   "outputs": [],
   "source": []
  },
  {
   "cell_type": "markdown",
   "id": "d7f21196",
   "metadata": {},
   "source": [
    "### Now, we compute $\\phi$"
   ]
  },
  {
   "cell_type": "markdown",
   "id": "32352336",
   "metadata": {},
   "source": [
    "We'll drop a perpendicular from B (say BH) onto the line AC.<br>\n",
    "The angle that BH has with the XZ plane = $\\phi/2$"
   ]
  },
  {
   "cell_type": "markdown",
   "id": "d5f26a86",
   "metadata": {},
   "source": [
    "Let $H = (h*\\sin(t), 0, h*\\cos(t))$  (since H is on line AC)"
   ]
  },
  {
   "cell_type": "markdown",
   "id": "16d9671c",
   "metadata": {},
   "source": [
    "Constraint : $BH \\perp AC$<br>\n",
    "$\\Rightarrow (0, a*\\sin(s), a*\\cos(s)) - (h*\\sin(t), 0, h*\\cos(t)) \\perp (b*\\sin(t), 0, b*\\cos(t))$<br>\n",
    "$\\Rightarrow (-h*\\sin(t), a*\\sin(s), a*\\cos(s) - h*\\cos(t)) \\perp (b*\\sin(t), 0, b*\\cos(t))$<br>\n",
    "$\\Rightarrow -h*\\sin(t) * b*\\sin(t) + 0 + (a*\\cos(s) - h*\\cos(t)) * b*\\cos(t) = 0$<br>\n",
    "$\\Rightarrow -h*b + a*\\cos(s) * b*\\cos(t) = 0$<br>\n",
    "$\\Rightarrow h = a*\\cos(s)*\\cos(t)$<br>\n",
    "\n",
    "Thus,"
   ]
  },
  {
   "cell_type": "code",
   "execution_count": null,
   "id": "015aa23a",
   "metadata": {},
   "outputs": [],
   "source": [
    "h = a*np.cos(s)*np.cos(t)\n",
    "pointH = np.array([h*np.sin(t), 0, h*np.cos(t)])"
   ]
  },
  {
   "cell_type": "markdown",
   "id": "60a2a9d3",
   "metadata": {},
   "source": [
    "Given any vector (x, y, z), the angle that it makes with the XZ plane\n",
    "$= \\tan^{-1}\\left(\\frac{y}{\\sqrt(x^2 + z^2)}\\right)$"
   ]
  },
  {
   "cell_type": "code",
   "execution_count": null,
   "id": "6ce7d641",
   "metadata": {},
   "outputs": [],
   "source": [
    "BH = pointB - pointH"
   ]
  },
  {
   "cell_type": "code",
   "execution_count": null,
   "id": "1b1ea89f",
   "metadata": {},
   "outputs": [],
   "source": [
    "phi = 2*np.arctan(BH[1]/np.linalg.norm([BH[0], BH[2]]))"
   ]
  },
  {
   "cell_type": "markdown",
   "id": "ed4b28ec",
   "metadata": {},
   "source": [
    "#### Important: This does not depend on a & b. We can omit out those factors."
   ]
  },
  {
   "cell_type": "code",
   "execution_count": null,
   "id": "fc1a8474",
   "metadata": {},
   "outputs": [],
   "source": []
  },
  {
   "cell_type": "markdown",
   "id": "e33ecfe0",
   "metadata": {},
   "source": [
    "### Making it all concise..."
   ]
  },
  {
   "cell_type": "code",
   "execution_count": null,
   "id": "6ed4142d",
   "metadata": {},
   "outputs": [],
   "source": [
    "# The only constant that we require\n",
    "C = 62*np.pi/180"
   ]
  },
  {
   "cell_type": "code",
   "execution_count": null,
   "id": "3b5a76b2",
   "metadata": {},
   "outputs": [],
   "source": [
    "def phi_vs_theta(theta):\n",
    "    t = theta/2\n",
    "    s = np.arccos(np.cos(C)/np.cos(t))\n",
    "    pointB = np.array([0, np.sin(s), np.cos(s)])\n",
    "    h = np.cos(s)*np.cos(t)\n",
    "    pointH = np.array([h*np.sin(t), 0, h*np.cos(t)])\n",
    "    BH = pointB - pointH\n",
    "    phi = 2*np.arctan(BH[1]/np.linalg.norm([BH[0], BH[2]]))\n",
    "    return phi"
   ]
  },
  {
   "cell_type": "markdown",
   "id": "400e96a6",
   "metadata": {},
   "source": [
    "Now, let's plot this"
   ]
  },
  {
   "cell_type": "code",
   "execution_count": null,
   "id": "3ea5614d",
   "metadata": {},
   "outputs": [],
   "source": [
    "thetas = np.arange(0, 2*C, 0.01)\n",
    "pvtv = np.vectorize(phi_vs_theta)\n",
    "phis = pvtv(thetas)"
   ]
  },
  {
   "cell_type": "code",
   "execution_count": null,
   "id": "f284e2c5",
   "metadata": {},
   "outputs": [],
   "source": []
  },
  {
   "cell_type": "code",
   "execution_count": null,
   "id": "d13e9b7d",
   "metadata": {},
   "outputs": [],
   "source": [
    "import matplotlib.pyplot as plt"
   ]
  },
  {
   "cell_type": "code",
   "execution_count": null,
   "id": "46f2247c",
   "metadata": {},
   "outputs": [],
   "source": [
    "plt.plot(thetas*180/np.pi, phis*180/np.pi)\n",
    "plt.title(\"$\\phi$ v/s $\\Theta$\")"
   ]
  },
  {
   "cell_type": "code",
   "execution_count": null,
   "id": "8de0a6ff",
   "metadata": {},
   "outputs": [],
   "source": []
  },
  {
   "cell_type": "code",
   "execution_count": null,
   "id": "3c0e6e44",
   "metadata": {},
   "outputs": [],
   "source": [
    "plt.plot(phis*180/np.pi, thetas*180/np.pi)\n",
    "plt.title(\"$\\Theta$ v/s $\\phi$ (as in the diagram)\")"
   ]
  },
  {
   "cell_type": "markdown",
   "id": "acc696bb",
   "metadata": {},
   "source": [
    "### Does $\\phi + 2*\\theta$ ever go to 360?"
   ]
  },
  {
   "cell_type": "code",
   "execution_count": null,
   "id": "27d0dc31",
   "metadata": {},
   "outputs": [],
   "source": [
    "plt.plot(thetas*180/np.pi, (phis + 2*thetas)*180/np.pi)\n",
    "plt.title(\"$\\phi + 2*\\Theta$\")"
   ]
  },
  {
   "cell_type": "markdown",
   "id": "b9adb1dd",
   "metadata": {},
   "source": [
    "nope!"
   ]
  },
  {
   "cell_type": "code",
   "execution_count": null,
   "id": "279f9f5f",
   "metadata": {},
   "outputs": [],
   "source": []
  },
  {
   "cell_type": "markdown",
   "id": "9934065a",
   "metadata": {},
   "source": [
    "### What about a larger C?"
   ]
  },
  {
   "cell_type": "code",
   "execution_count": null,
   "id": "53a07846",
   "metadata": {},
   "outputs": [],
   "source": [
    "C = 80*np.pi/180\n",
    "pvtv = np.vectorize(phi_vs_theta)\n",
    "phis = pvtv(thetas)"
   ]
  },
  {
   "cell_type": "code",
   "execution_count": null,
   "id": "7ffde90f",
   "metadata": {},
   "outputs": [],
   "source": [
    "plt.plot(thetas*180/np.pi, (phis + 2*thetas)*180/np.pi)\n",
    "plt.title(\"$\\phi + 2*\\Theta$\")"
   ]
  },
  {
   "cell_type": "code",
   "execution_count": null,
   "id": "0b977997",
   "metadata": {},
   "outputs": [],
   "source": []
  },
  {
   "cell_type": "markdown",
   "id": "54be9d66",
   "metadata": {},
   "source": [
    "At roughly C=73.5 degrees, we start to see a point touching 360. Thus, we need a C > this."
   ]
  },
  {
   "cell_type": "code",
   "execution_count": null,
   "id": "95187acc",
   "metadata": {},
   "outputs": [],
   "source": []
  },
  {
   "cell_type": "code",
   "execution_count": null,
   "id": "e9b06d58",
   "metadata": {},
   "outputs": [],
   "source": [
    "np.pi*2"
   ]
  },
  {
   "cell_type": "code",
   "execution_count": null,
   "id": "51b3cc59",
   "metadata": {},
   "outputs": [],
   "source": [
    "theta = 158.5445*np.pi/180\n",
    "phi_vs_theta(theta) + 2*theta"
   ]
  },
  {
   "cell_type": "code",
   "execution_count": null,
   "id": "3caa1298",
   "metadata": {},
   "outputs": [],
   "source": [
    "theta = 102.746*np.pi/180\n",
    "phi_vs_theta(theta) + 2*theta"
   ]
  },
  {
   "cell_type": "code",
   "execution_count": null,
   "id": "ab1ddc5a",
   "metadata": {},
   "outputs": [],
   "source": [
    "360 - 2*158.5445, 360 - 2*102.746"
   ]
  },
  {
   "cell_type": "code",
   "execution_count": null,
   "id": "4b820ae3",
   "metadata": {},
   "outputs": [],
   "source": [
    "102.746*4 + 154.508*2"
   ]
  },
  {
   "cell_type": "code",
   "execution_count": null,
   "id": "4d5f3189",
   "metadata": {},
   "outputs": [],
   "source": []
  }
 ],
 "metadata": {
  "kernelspec": {
   "display_name": "Python 3 (ipykernel)",
   "language": "python",
   "name": "python3"
  },
  "language_info": {
   "codemirror_mode": {
    "name": "ipython",
    "version": 3
   },
   "file_extension": ".py",
   "mimetype": "text/x-python",
   "name": "python",
   "nbconvert_exporter": "python",
   "pygments_lexer": "ipython3",
   "version": "3.8.9"
  }
 },
 "nbformat": 4,
 "nbformat_minor": 5
}
