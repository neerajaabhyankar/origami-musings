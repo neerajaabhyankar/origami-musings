{
 "cells": [
  {
   "cell_type": "code",
   "execution_count": null,
   "id": "38167309",
   "metadata": {},
   "outputs": [],
   "source": [
    "import numpy as np\n",
    "import plotly\n",
    "import plotly.graph_objs as go\n",
    "plotly.offline.init_notebook_mode()"
   ]
  },
  {
   "cell_type": "markdown",
   "id": "19d705c1",
   "metadata": {},
   "source": [
    "### Problem statement"
   ]
  },
  {
   "cell_type": "markdown",
   "id": "8c277a9e",
   "metadata": {},
   "source": [
    "<img src=\"joint-tuning-problem.jpeg\" alt=\"brainstorm\" width=\"300\"/>"
   ]
  },
  {
   "cell_type": "markdown",
   "id": "e64728b4",
   "metadata": {},
   "source": [
    "### Placeholder values"
   ]
  },
  {
   "cell_type": "code",
   "execution_count": null,
   "id": "7af0105f",
   "metadata": {},
   "outputs": [],
   "source": [
    "a = 1.9; b = 1.7\n",
    "C = 62*np.pi/180\n",
    "# by measurement of the model)\n",
    "\n",
    "t = 30*np.pi/180  # 0 <= t <= C\n",
    "# example"
   ]
  },
  {
   "cell_type": "markdown",
   "id": "cb3772e9",
   "metadata": {},
   "source": [
    "### One triangle of the joint"
   ]
  },
  {
   "cell_type": "markdown",
   "id": "5b9ba740",
   "metadata": {},
   "source": [
    "Let's look at quadrant 1 -- the rest are just mirror images in the axes.<br>\n",
    "Constraints on the triangle:\n",
    "- One vertex at (0,0,0) (vertex C)\n",
    "- One edge in the YZ plane (edge a)\n",
    "- One edge in the XZ plane (edge b)\n",
    "\n",
    "Degrees of freedom / parameters that characterize it:\n",
    "- Length of a\n",
    "- Length of b\n",
    "- cos(a, b) = cos(C)\n",
    "\n",
    "There is an extra degree of freedom along which this triangle is free to move.<br>\n",
    "Looking at the big picture model, it makes sense to characterize this parameter by<br>\n",
    "$t = \\theta/2 = (\\textrm{the angle made by b with Z})$ ... For our purposes, $0 \\leq t \\leq C$"
   ]
  },
  {
   "cell_type": "code",
   "execution_count": null,
   "id": "66ca13bf",
   "metadata": {},
   "outputs": [],
   "source": [
    "pointC = np.array([0, 0, 0])"
   ]
  },
  {
   "cell_type": "markdown",
   "id": "9aa24831",
   "metadata": {},
   "source": [
    "From this, the corner A (opposite side a) has coordinates:<br>\n",
    "$A = (b*\\sin(t), 0, b*\\cos(t))$"
   ]
  },
  {
   "cell_type": "code",
   "execution_count": null,
   "id": "d9b18454",
   "metadata": {},
   "outputs": [],
   "source": [
    "pointA = np.array([b*np.sin(t), 0, b*np.cos(t)])"
   ]
  },
  {
   "cell_type": "markdown",
   "id": "0c5aaa6e",
   "metadata": {},
   "source": [
    "The corner B (opposite side b) has coordinates:<br>\n",
    "$B = (0, yy, zz)$  (say) such that<br>\n",
    "$yy^{2} + zz^{2} = a^{2}$ &nbsp; &nbsp; -- (length of the edge)<br>\n",
    "$zz * b * \\cos(t) = a*b*\\cos(C)$ &nbsp; &nbsp; -- (dot product between the two vectors)\n",
    "\n",
    "Thus,<br>\n",
    "$B = (0, a*\\sqrt{1 - \\frac{\\cos^2(C)}{\\cos^2(t)}}, a*\\frac{\\cos(C)}{\\cos(t)})$"
   ]
  },
  {
   "cell_type": "markdown",
   "id": "6c1713d8",
   "metadata": {},
   "source": [
    "For shorthand, say B makes an angle $s$ with the Z axis, and hence has coordinates<br>\n",
    "$B = (0, a*\\sin(s), a*\\cos(s))$ where $s = \\cos^{-1}\\left(\\frac{cos(C)}{cos(t)}\\right)$"
   ]
  },
  {
   "cell_type": "code",
   "execution_count": null,
   "id": "101c9adf",
   "metadata": {},
   "outputs": [],
   "source": [
    "s = np.arccos(np.cos(C)/np.cos(t))\n",
    "pointB = np.array([0, a*np.sin(s), a*np.cos(s)])"
   ]
  },
  {
   "cell_type": "markdown",
   "id": "e32aea05",
   "metadata": {},
   "source": [
    "Thus,"
   ]
  },
  {
   "cell_type": "code",
   "execution_count": null,
   "id": "58f7680b",
   "metadata": {},
   "outputs": [],
   "source": [
    "quad1_vertices = np.array([pointA, pointB, pointC])"
   ]
  },
  {
   "cell_type": "code",
   "execution_count": null,
   "id": "480ec004",
   "metadata": {},
   "outputs": [],
   "source": []
  },
  {
   "cell_type": "markdown",
   "id": "d7f21196",
   "metadata": {},
   "source": [
    "### Now, we compute $\\phi$"
   ]
  },
  {
   "cell_type": "markdown",
   "id": "48a39a6d",
   "metadata": {},
   "source": [
    "We'll drop a perpendicular from B (say BH) onto the line AC.<br>\n",
    "The angle that BH has with the XZ plane = $\\phi/2$"
   ]
  },
  {
   "cell_type": "markdown",
   "id": "3f965e4d",
   "metadata": {},
   "source": [
    "Let $H = (h*\\sin(t), 0, h*\\cos(t))$  (since H is on line AC)"
   ]
  },
  {
   "cell_type": "markdown",
   "id": "eb36b0ec",
   "metadata": {},
   "source": [
    "Constraint : $BH \\perp AC$<br>\n",
    "$\\Rightarrow (0, a*\\sin(s), a*\\cos(s)) - (h*\\sin(t), 0, h*\\cos(t)) \\perp (b*\\sin(t), 0, b*\\cos(t))$<br>\n",
    "$\\Rightarrow (-h*\\sin(t), a*\\sin(s), a*\\cos(s) - h*\\cos(t)) \\perp (b*\\sin(t), 0, b*\\cos(t))$<br>\n",
    "$\\Rightarrow -h*\\sin(t) * b*\\sin(t) + 0 + (a*\\cos(s) - h*\\cos(t)) * b*\\cos(t) = 0$<br>\n",
    "$\\Rightarrow -h*b + a*\\cos(s) * b*\\cos(t) = 0$<br>\n",
    "$\\Rightarrow h = a*\\cos(s)*\\cos(t)$<br>\n",
    "\n",
    "Thus,"
   ]
  },
  {
   "cell_type": "code",
   "execution_count": null,
   "id": "a359bace",
   "metadata": {},
   "outputs": [],
   "source": [
    "h = a*np.cos(s)*np.cos(t)\n",
    "pointH = np.array([h*np.sin(t), 0, h*np.cos(t)])"
   ]
  },
  {
   "cell_type": "markdown",
   "id": "b9031aea",
   "metadata": {},
   "source": [
    "Given any vector (x, y, z), the angle that it makes with the XZ plane\n",
    "$= \\tan^{-1}\\left(\\frac{y}{\\sqrt(x^2 + z^2)}\\right)$"
   ]
  },
  {
   "cell_type": "code",
   "execution_count": null,
   "id": "392a622b",
   "metadata": {},
   "outputs": [],
   "source": [
    "BH = pointB - pointH"
   ]
  },
  {
   "cell_type": "code",
   "execution_count": null,
   "id": "ffb031fe",
   "metadata": {},
   "outputs": [],
   "source": [
    "phi = 2*np.arctan(BH[1]/np.linalg.norm([BH[0], BH[2]]))"
   ]
  },
  {
   "cell_type": "markdown",
   "id": "45724f17",
   "metadata": {},
   "source": [
    "#### Important: This does not depend on a & b. We can omit out those factors."
   ]
  },
  {
   "cell_type": "code",
   "execution_count": null,
   "id": "8512ae01",
   "metadata": {},
   "outputs": [],
   "source": []
  },
  {
   "cell_type": "markdown",
   "id": "15620d3b",
   "metadata": {},
   "source": [
    "### Making it all concise..."
   ]
  },
  {
   "cell_type": "code",
   "execution_count": null,
   "id": "7ac1d1ab",
   "metadata": {},
   "outputs": [],
   "source": [
    "# The only constant that we require\n",
    "C = 62*np.pi/180"
   ]
  },
  {
   "cell_type": "code",
   "execution_count": null,
   "id": "7f9f617e",
   "metadata": {},
   "outputs": [],
   "source": [
    "def phi_vs_theta(theta):\n",
    "    t = theta/2\n",
    "    s = np.arccos(np.cos(C)/np.cos(t))\n",
    "    pointB = np.array([0, np.sin(s), np.cos(s)])\n",
    "    h = np.cos(s)*np.cos(t)\n",
    "    pointH = np.array([h*np.sin(t), 0, h*np.cos(t)])\n",
    "    BH = pointB - pointH\n",
    "    phi = 2*np.arctan(BH[1]/np.linalg.norm([BH[0], BH[2]]))\n",
    "    return phi"
   ]
  },
  {
   "cell_type": "markdown",
   "id": "7cfea921",
   "metadata": {},
   "source": [
    "Now, let's plot this"
   ]
  },
  {
   "cell_type": "code",
   "execution_count": null,
   "id": "6e7ae4d1",
   "metadata": {},
   "outputs": [],
   "source": [
    "thetas = np.arange(0, 124*np.pi/180, 0.01)\n",
    "pvtv = np.vectorize(phi_vs_theta)\n",
    "phis = pvtv(thetas)"
   ]
  },
  {
   "cell_type": "code",
   "execution_count": null,
   "id": "703e76a1",
   "metadata": {},
   "outputs": [],
   "source": [
    "import matplotlib.pyplot as plt"
   ]
  },
  {
   "cell_type": "code",
   "execution_count": null,
   "id": "b9edadf5",
   "metadata": {},
   "outputs": [],
   "source": [
    "plt.plot(thetas*180/np.pi, phis*180/np.pi)"
   ]
  },
  {
   "cell_type": "code",
   "execution_count": null,
   "id": "4e7dcab9",
   "metadata": {},
   "outputs": [],
   "source": []
  }
 ],
 "metadata": {
  "kernelspec": {
   "display_name": "Python 3 (ipykernel)",
   "language": "python",
   "name": "python3"
  },
  "language_info": {
   "codemirror_mode": {
    "name": "ipython",
    "version": 3
   },
   "file_extension": ".py",
   "mimetype": "text/x-python",
   "name": "python",
   "nbconvert_exporter": "python",
   "pygments_lexer": "ipython3",
   "version": "3.8.9"
  }
 },
 "nbformat": 4,
 "nbformat_minor": 5
}
