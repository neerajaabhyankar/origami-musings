{
 "cells": [
  {
   "cell_type": "code",
   "execution_count": null,
   "id": "38167309",
   "metadata": {},
   "outputs": [],
   "source": [
    "import numpy as np\n",
    "import plotly\n",
    "import plotly.graph_objs as go\n",
    "plotly.offline.init_notebook_mode()"
   ]
  },
  {
   "cell_type": "markdown",
   "id": "cb3772e9",
   "metadata": {},
   "source": [
    "### Pentagonal Gyrobicupola Vertices"
   ]
  },
  {
   "cell_type": "code",
   "execution_count": null,
   "id": "e5e64beb",
   "metadata": {},
   "outputs": [],
   "source": [
    "PHI = (1+np.sqrt(5))/2"
   ]
  },
  {
   "cell_type": "code",
   "execution_count": null,
   "id": "1f6438e5",
   "metadata": {},
   "outputs": [],
   "source": [
    "pgb_vertices = np.array([\n",
    "    [0, np.sqrt((10 + 2*np.sqrt(5))/5), 2*np.sqrt((3 - PHI)/5)],\n",
    "    [-PHI, np.sqrt((5 - np.sqrt(5))/10), 2*np.sqrt((3 - PHI)/5)],\n",
    "    [-1, -np.sqrt((5 + 2*np.sqrt(5))/5), 2*np.sqrt((3 - PHI)/5)],\n",
    "    [+1, -np.sqrt((5 + 2*np.sqrt(5))/5), 2*np.sqrt((3 - PHI)/5)],\n",
    "    [PHI, np.sqrt((5 - np.sqrt(5))/10), 2*np.sqrt((3 - PHI)/5)],\n",
    "    \n",
    "    [-2*PHI, 0, 0],\n",
    "    [-PHI**2, -np.sqrt(2 + PHI), 0],\n",
    "    [-1, -np.sqrt(3 + 4*PHI), 0],\n",
    "    [1, -np.sqrt(3 + 4*PHI), 0],\n",
    "    [PHI**2, -np.sqrt(2 + PHI), 0],\n",
    "    \n",
    "    [+2*PHI, 0, 0],\n",
    "    [PHI**2, np.sqrt(2 + PHI), 0],\n",
    "    [1, np.sqrt(3 + 4*PHI), 0],\n",
    "    [-1, np.sqrt(3 + 4*PHI), 0],\n",
    "    [-PHI**2, np.sqrt(2 + PHI), 0],\n",
    "    \n",
    "    [0, -np.sqrt((10 + 2*np.sqrt(5))/5), -2*np.sqrt((3 - PHI)/5)],\n",
    "    [PHI, -np.sqrt((5 - np.sqrt(5))/10), -2*np.sqrt((3 - PHI)/5)],\n",
    "    [1, np.sqrt((5 + 2*np.sqrt(5))/5), -2*np.sqrt((3 - PHI)/5)],\n",
    "    [-1, np.sqrt((5 + 2*np.sqrt(5))/5), -2*np.sqrt((3 - PHI)/5)],\n",
    "    [-PHI, -np.sqrt((5 - np.sqrt(5))/10), -2*np.sqrt((3 - PHI)/5)],\n",
    "])\n",
    "print(pgb_vertices.shape)"
   ]
  },
  {
   "cell_type": "code",
   "execution_count": null,
   "id": "ac771be9",
   "metadata": {},
   "outputs": [],
   "source": [
    "vertices = go.Scatter3d(\n",
    "    x=pgb_vertices[:,0],\n",
    "    y=pgb_vertices[:,1],\n",
    "    z=pgb_vertices[:,2],\n",
    "    mode='markers',\n",
    "    name='markers',\n",
    "    marker=dict(color=f'rgb(255, 0, 0)', size=5)\n",
    ")"
   ]
  },
  {
   "cell_type": "code",
   "execution_count": null,
   "id": "f4c86724",
   "metadata": {},
   "outputs": [],
   "source": [
    "fig = go.Figure(data=[vertices])\n",
    "plotly.offline.iplot(fig, filename='pgb-scatter.png')"
   ]
  },
  {
   "cell_type": "markdown",
   "id": "9d049bfa",
   "metadata": {},
   "source": [
    "### Pentagonal Gyrobicupola Edges"
   ]
  },
  {
   "cell_type": "code",
   "execution_count": null,
   "id": "c64e0cd1",
   "metadata": {},
   "outputs": [],
   "source": [
    "link1 = [0, 5, 15, 10, 0]\n",
    "link2 = [1, 7, 16, 12, 1]\n",
    "link3 = [2, 9, 17, 14, 2]\n",
    "link4 = [3, 6, 18, 11, 3]\n",
    "link5 = [4, 8, 19, 13, 4]"
   ]
  },
  {
   "cell_type": "code",
   "execution_count": null,
   "id": "bd15db69",
   "metadata": {},
   "outputs": [],
   "source": [
    "edge1 = go.Scatter3d(\n",
    "    x=[pgb_vertices[p, 0] for p in link1],\n",
    "    y=[pgb_vertices[p, 1] for p in link1],\n",
    "    z=[pgb_vertices[p, 2] for p in link1],\n",
    "    name='link1',\n",
    "    line=dict(color=f'rgb(0, 255, 15)')\n",
    ")\n",
    "edge2 = go.Scatter3d(\n",
    "    x=[pgb_vertices[p, 0] for p in link2],\n",
    "    y=[pgb_vertices[p, 1] for p in link2],\n",
    "    z=[pgb_vertices[p, 2] for p in link2],\n",
    "    name='link2',\n",
    "    line=dict(color=f'rgb(0, 195, 75)')\n",
    ")\n",
    "edge3 = go.Scatter3d(\n",
    "    x=[pgb_vertices[p, 0] for p in link3],\n",
    "    y=[pgb_vertices[p, 1] for p in link3],\n",
    "    z=[pgb_vertices[p, 2] for p in link3],\n",
    "    name='link3',\n",
    "    line=dict(color=f'rgb(0, 135, 135)')\n",
    ")\n",
    "edge4 = go.Scatter3d(\n",
    "    x=[pgb_vertices[p, 0] for p in link4],\n",
    "    y=[pgb_vertices[p, 1] for p in link4],\n",
    "    z=[pgb_vertices[p, 2] for p in link4],\n",
    "    name='link4',\n",
    "    line=dict(color=f'rgb(0, 75, 195)')\n",
    ")\n",
    "edge5 = go.Scatter3d(\n",
    "    x=[pgb_vertices[p, 0] for p in link5],\n",
    "    y=[pgb_vertices[p, 1] for p in link5],\n",
    "    z=[pgb_vertices[p, 2] for p in link5],\n",
    "    name='link5',\n",
    "    line=dict(color=f'rgb(0, 15, 255)')\n",
    ")"
   ]
  },
  {
   "cell_type": "code",
   "execution_count": null,
   "id": "561537bb",
   "metadata": {},
   "outputs": [],
   "source": [
    "fig = go.Figure(data=[edge1, edge2, edge3, edge4, edge5])\n",
    "plotly.offline.iplot(fig, filename='pgb-scatter')"
   ]
  },
  {
   "cell_type": "markdown",
   "id": "32cf1086",
   "metadata": {},
   "source": [
    "Every segment in this piece undergoes 2 intersections. Consider some segment of some link `a`, which is intersecting `b` and `c` (top and bottom, say).<br>"
   ]
  },
  {
   "cell_type": "markdown",
   "id": "fc7a9c4f",
   "metadata": {},
   "source": [
    "(1) Without loss of generality, we will assign a \"weave\" -- a certain segment of `a` will be \"going outside\" `b`, and `a` will be \"going inside\" `c`. (I'll be using the words \"outside/inside\" are used interchangeably with \"over/under\" -- imagine it's w.r.t the solid shape's centroid)<br>\n",
    "Note that this object as drawn above is not chiral, but once we assign this directionality, it will become chiral."
   ]
  },
  {
   "cell_type": "markdown",
   "id": "6891cd39",
   "metadata": {},
   "source": [
    "(2) Link `a` will intersect all four other links exactly twice each -- in the following order:<br>\n",
    "`b, c, d, e, b, c, d, e`.\n",
    "Given that each link must be hopf-linked with each other one, `a` has to go inside once and go outside once -- each of the other links."
   ]
  },
  {
   "cell_type": "markdown",
   "id": "c37f40d4",
   "metadata": {},
   "source": [
    "Here's an attempt to assign a weaving for `a`:<br>\n",
    "`over b, under c, over d, under e, under b, over c, under d, over e`<br>"
   ]
  },
  {
   "cell_type": "markdown",
   "id": "ebe92776",
   "metadata": {},
   "source": [
    "See how in order to satisfy condition 2, we need to \"break symmetry\" by having an under-under and an over-over combo consecutively..."
   ]
  },
  {
   "cell_type": "markdown",
   "id": "ff1047fa",
   "metadata": {},
   "source": [
    "Thus, it appears that such a symmetric weave will only be possibly to assign if a has odd sides & an odd number of other links to be woven with!"
   ]
  },
  {
   "cell_type": "markdown",
   "id": "4f20a5a0",
   "metadata": {},
   "source": []
  }
 ],
 "metadata": {
  "kernelspec": {
   "display_name": "Python 3 (ipykernel)",
   "language": "python",
   "name": "python3"
  },
  "language_info": {
   "codemirror_mode": {
    "name": "ipython",
    "version": 3
   },
   "file_extension": ".py",
   "mimetype": "text/x-python",
   "name": "python",
   "nbconvert_exporter": "python",
   "pygments_lexer": "ipython3",
   "version": "3.11.9"
  }
 },
 "nbformat": 4,
 "nbformat_minor": 5
}
