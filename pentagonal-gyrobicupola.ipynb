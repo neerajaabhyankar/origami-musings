{
 "cells": [
  {
   "cell_type": "code",
   "execution_count": null,
   "id": "38167309",
   "metadata": {},
   "outputs": [],
   "source": [
    "import numpy as np\n",
    "import plotly\n",
    "import plotly.graph_objs as go\n",
    "plotly.offline.init_notebook_mode()"
   ]
  },
  {
   "cell_type": "markdown",
   "id": "cb3772e9",
   "metadata": {},
   "source": [
    "### Pentagonal Gyrobicupola Vertices"
   ]
  },
  {
   "cell_type": "code",
   "execution_count": null,
   "id": "e5e64beb",
   "metadata": {},
   "outputs": [],
   "source": [
    "PHI = (1+np.sqrt(5))/2"
   ]
  },
  {
   "cell_type": "code",
   "execution_count": null,
   "id": "1f6438e5",
   "metadata": {},
   "outputs": [],
   "source": [
    "pgb_vertices = np.array([\n",
    "    [0, np.sqrt((10 + 2*np.sqrt(5))/5), 2*np.sqrt((3 - PHI)/5)],\n",
    "    [-PHI, np.sqrt((5 - np.sqrt(5))/10), 2*np.sqrt((3 - PHI)/5)],\n",
    "    [-1, -np.sqrt((5 + 2*np.sqrt(5))/5), 2*np.sqrt((3 - PHI)/5)],\n",
    "    [+1, -np.sqrt((5 + 2*np.sqrt(5))/5), 2*np.sqrt((3 - PHI)/5)],\n",
    "    [PHI, np.sqrt((5 - np.sqrt(5))/10), 2*np.sqrt((3 - PHI)/5)],\n",
    "    \n",
    "    [-2*PHI, 0, 0],\n",
    "    [-PHI**2, -np.sqrt(2 + PHI), 0],\n",
    "    [-1, -np.sqrt(3 + 4*PHI), 0],\n",
    "    [1, -np.sqrt(3 + 4*PHI), 0],\n",
    "    [PHI**2, -np.sqrt(2 + PHI), 0],\n",
    "    \n",
    "    [+2*PHI, 0, 0],\n",
    "    [PHI**2, np.sqrt(2 + PHI), 0],\n",
    "    [1, np.sqrt(3 + 4*PHI), 0],\n",
    "    [-1, np.sqrt(3 + 4*PHI), 0],\n",
    "    [-PHI**2, np.sqrt(2 + PHI), 0],\n",
    "    \n",
    "    [0, -np.sqrt((10 + 2*np.sqrt(5))/5), -2*np.sqrt((3 - PHI)/5)],\n",
    "    [PHI, -np.sqrt((5 - np.sqrt(5))/10), -2*np.sqrt((3 - PHI)/5)],\n",
    "    [1, np.sqrt((5 + 2*np.sqrt(5))/5), -2*np.sqrt((3 - PHI)/5)],\n",
    "    [-1, np.sqrt((5 + 2*np.sqrt(5))/5), -2*np.sqrt((3 - PHI)/5)],\n",
    "    [-PHI, -np.sqrt((5 - np.sqrt(5))/10), -2*np.sqrt((3 - PHI)/5)],\n",
    "])\n",
    "print(pgb_vertices.shape)"
   ]
  },
  {
   "cell_type": "code",
   "execution_count": null,
   "id": "ac771be9",
   "metadata": {},
   "outputs": [],
   "source": [
    "vertices = go.Scatter3d(\n",
    "    x=pgb_vertices[:,0],\n",
    "    y=pgb_vertices[:,1],\n",
    "    z=pgb_vertices[:,2],\n",
    "    mode='markers',\n",
    "    name='markers',\n",
    "    marker=dict(color=f'rgb(255, 0, 0)', size=5)\n",
    ")"
   ]
  },
  {
   "cell_type": "code",
   "execution_count": null,
   "id": "f4c86724",
   "metadata": {},
   "outputs": [],
   "source": [
    "fig = go.Figure(data=[vertices])\n",
    "plotly.offline.iplot(fig, filename='pgb-scatter')"
   ]
  },
  {
   "cell_type": "markdown",
   "id": "9d049bfa",
   "metadata": {},
   "source": [
    "### Pentagonal Gyrobicupola Edges"
   ]
  },
  {
   "cell_type": "code",
   "execution_count": null,
   "id": "c64e0cd1",
   "metadata": {},
   "outputs": [],
   "source": [
    "link1 = [0, 5, 15, 10, 0]\n",
    "link2 = [1, 7, 16, 12, 1]\n",
    "link3 = [2, 9, 17, 14, 2]\n",
    "link4 = [3, 6, 18, 11, 3]\n",
    "link5 = [4, 8, 19, 13, 4]"
   ]
  },
  {
   "cell_type": "code",
   "execution_count": null,
   "id": "bd15db69",
   "metadata": {},
   "outputs": [],
   "source": [
    "edge1 = go.Scatter3d(\n",
    "    x=[pgb_vertices[p, 0] for p in link1],\n",
    "    y=[pgb_vertices[p, 1] for p in link1],\n",
    "    z=[pgb_vertices[p, 2] for p in link1],\n",
    "    name='link1',\n",
    "    line=dict(color=f'rgb(0, 255, 15)')\n",
    ")\n",
    "edge2 = go.Scatter3d(\n",
    "    x=[pgb_vertices[p, 0] for p in link2],\n",
    "    y=[pgb_vertices[p, 1] for p in link2],\n",
    "    z=[pgb_vertices[p, 2] for p in link2],\n",
    "    name='link2',\n",
    "    line=dict(color=f'rgb(0, 195, 75)')\n",
    ")\n",
    "edge3 = go.Scatter3d(\n",
    "    x=[pgb_vertices[p, 0] for p in link3],\n",
    "    y=[pgb_vertices[p, 1] for p in link3],\n",
    "    z=[pgb_vertices[p, 2] for p in link3],\n",
    "    name='link3',\n",
    "    line=dict(color=f'rgb(0, 135, 135)')\n",
    ")\n",
    "edge4 = go.Scatter3d(\n",
    "    x=[pgb_vertices[p, 0] for p in link4],\n",
    "    y=[pgb_vertices[p, 1] for p in link4],\n",
    "    z=[pgb_vertices[p, 2] for p in link4],\n",
    "    name='link4',\n",
    "    line=dict(color=f'rgb(0, 75, 195)')\n",
    ")\n",
    "edge5 = go.Scatter3d(\n",
    "    x=[pgb_vertices[p, 0] for p in link5],\n",
    "    y=[pgb_vertices[p, 1] for p in link5],\n",
    "    z=[pgb_vertices[p, 2] for p in link5],\n",
    "    name='link5',\n",
    "    line=dict(color=f'rgb(0, 15, 255)')\n",
    ")"
   ]
  },
  {
   "cell_type": "code",
   "execution_count": null,
   "id": "561537bb",
   "metadata": {},
   "outputs": [],
   "source": [
    "fig = go.Figure(data=[edge1, edge2, edge3, edge4, edge5])\n",
    "plotly.offline.iplot(fig, filename='pgb-scatter')"
   ]
  },
  {
   "cell_type": "markdown",
   "id": "32cf1086",
   "metadata": {},
   "source": [
    "Every segment in this piece undergoes tow intersections. Consider some segment `a`, which is intersecting `b` and `c` (top and bottom, say).<br>\n",
    "We will arbitrarily assign a \"dominant direction\" -- i.e. the top corner of the segment `a` will be \"going over\" `b`, and `a` will be \"going under\" the bottom corner of `c`.<br>\n",
    "Note that this object as drawn above is not chiral, but one we assign this directionality, it will become chiral."
   ]
  },
  {
   "cell_type": "markdown",
   "id": "6891cd39",
   "metadata": {},
   "source": [
    "Another thing to take care of...<br>\n",
    "Link `a` will intersect all four other links exactly twice each -- in the followign order:<br>\n",
    "`b, c, d, e, b, c, d, e`.\n",
    "Given that each link must be huff-linked with each other one, `a` has to go over once and go under once -- each otehr link."
   ]
  },
  {
   "cell_type": "markdown",
   "id": "9702618b",
   "metadata": {},
   "source": [
    "**These two conditions are a contradiction of sorts!\n",
    "The weaving condition means that all crossings of `a` have to be over-under-over-under-...-under**.<br>\n",
    "Is that why we need an odd number of links woven with a?!!"
   ]
  },
  {
   "cell_type": "code",
   "execution_count": null,
   "id": "c37f40d4",
   "metadata": {},
   "outputs": [],
   "source": []
  }
 ],
 "metadata": {
  "kernelspec": {
   "display_name": "Python 3 (ipykernel)",
   "language": "python",
   "name": "python3"
  },
  "language_info": {
   "codemirror_mode": {
    "name": "ipython",
    "version": 3
   },
   "file_extension": ".py",
   "mimetype": "text/x-python",
   "name": "python",
   "nbconvert_exporter": "python",
   "pygments_lexer": "ipython3",
   "version": "3.7.5"
  }
 },
 "nbformat": 4,
 "nbformat_minor": 5
}
